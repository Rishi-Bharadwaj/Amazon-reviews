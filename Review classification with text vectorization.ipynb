{
 "cells": [
  {
   "cell_type": "code",
   "execution_count": 17,
   "metadata": {},
   "outputs": [],
   "source": [
    "import json\n",
    "import gzip\n",
    "import pandas as pd\n",
    "import numpy as np \n",
    "import tensorflow as tf \n",
    "from sklearn.utils import shuffle\n",
    "from tensorflow.keras.layers import TextVectorization\n",
    "from tensorflow import keras\n",
    "from tensorflow.keras import layers\n",
    "from sklearn.preprocessing import OneHotEncoder\n",
    "from tensorflow.keras.losses import sparse_categorical_crossentropy\n",
    "import matplotlib.pyplot as plt\n",
    "\n"
   ]
  },
  {
   "cell_type": "code",
   "execution_count": 18,
   "metadata": {},
   "outputs": [],
   "source": [
    "def parse(path):\n",
    "  g = gzip.open(path, 'rb')\n",
    "  for l in g:\n",
    "    yield json.loads(l)\n",
    "\n",
    "def getDF(path):\n",
    "  i = 0\n",
    "  df = {}\n",
    "  for d in parse(path):\n",
    "    df[i] = d\n",
    "    i += 1\n",
    "  return pd.DataFrame.from_dict(df, orient='index')\n",
    "\n",
    "df = getDF(r\"C:\\Users\\rishi\\ml_projects\\reviews\\Video_Games.json.gz\")\n",
    "df=df.drop([\"reviewTime\",\"reviewerID\",\"vote\",\"style\",\"image\",\"unixReviewTime\",\"reviewerName\",\"asin\"],axis=1)\n",
    "df=shuffle(df)\n",
    "df=df.reset_index(drop=True)\n",
    "df=df[:500000]\n",
    "df['overall']=df['overall'].apply(lambda x: float(x))\n",
    "df['reviewText']=df['reviewText'].apply(lambda x: str(x))\n",
    "df['summary']=df['summary'].apply(lambda x: str(x))\n",
    "train,valid,test=df[:400000], df[460000:480000], df[480000:500000]\n"
   ]
  },
  {
   "cell_type": "code",
   "execution_count": 19,
   "metadata": {},
   "outputs": [
    {
     "data": {
      "text/html": [
       "<div>\n",
       "<style scoped>\n",
       "    .dataframe tbody tr th:only-of-type {\n",
       "        vertical-align: middle;\n",
       "    }\n",
       "\n",
       "    .dataframe tbody tr th {\n",
       "        vertical-align: top;\n",
       "    }\n",
       "\n",
       "    .dataframe thead th {\n",
       "        text-align: right;\n",
       "    }\n",
       "</style>\n",
       "<table border=\"1\" class=\"dataframe\">\n",
       "  <thead>\n",
       "    <tr style=\"text-align: right;\">\n",
       "      <th></th>\n",
       "      <th>overall</th>\n",
       "      <th>verified</th>\n",
       "      <th>reviewText</th>\n",
       "      <th>summary</th>\n",
       "    </tr>\n",
       "  </thead>\n",
       "  <tbody>\n",
       "    <tr>\n",
       "      <th>0</th>\n",
       "      <td>5.0</td>\n",
       "      <td>True</td>\n",
       "      <td>I admit, I was a bit leery of the low price on...</td>\n",
       "      <td>these things actually work!</td>\n",
       "    </tr>\n",
       "    <tr>\n",
       "      <th>1</th>\n",
       "      <td>4.0</td>\n",
       "      <td>True</td>\n",
       "      <td>My son loved it</td>\n",
       "      <td>Great gift</td>\n",
       "    </tr>\n",
       "    <tr>\n",
       "      <th>2</th>\n",
       "      <td>1.0</td>\n",
       "      <td>True</td>\n",
       "      <td>Very bad. It will break really fast. I can't h...</td>\n",
       "      <td>Waste Of Money!</td>\n",
       "    </tr>\n",
       "    <tr>\n",
       "      <th>3</th>\n",
       "      <td>1.0</td>\n",
       "      <td>True</td>\n",
       "      <td>The game sucks....</td>\n",
       "      <td>One Star</td>\n",
       "    </tr>\n",
       "    <tr>\n",
       "      <th>4</th>\n",
       "      <td>5.0</td>\n",
       "      <td>False</td>\n",
       "      <td>Don't get me wrong, farcry 3 was an o.k. game,...</td>\n",
       "      <td>Re:Better than Farcry 3</td>\n",
       "    </tr>\n",
       "    <tr>\n",
       "      <th>5</th>\n",
       "      <td>5.0</td>\n",
       "      <td>True</td>\n",
       "      <td>it beeter then the acckilam wi.e rless one  th...</td>\n",
       "      <td>it better</td>\n",
       "    </tr>\n",
       "    <tr>\n",
       "      <th>6</th>\n",
       "      <td>5.0</td>\n",
       "      <td>True</td>\n",
       "      <td>Ball is life</td>\n",
       "      <td>Five Stars</td>\n",
       "    </tr>\n",
       "    <tr>\n",
       "      <th>7</th>\n",
       "      <td>4.0</td>\n",
       "      <td>True</td>\n",
       "      <td>It's ok</td>\n",
       "      <td>Four Stars</td>\n",
       "    </tr>\n",
       "    <tr>\n",
       "      <th>8</th>\n",
       "      <td>1.0</td>\n",
       "      <td>True</td>\n",
       "      <td>Im just getting around to writing this review ...</td>\n",
       "      <td>Didn't work</td>\n",
       "    </tr>\n",
       "    <tr>\n",
       "      <th>9</th>\n",
       "      <td>5.0</td>\n",
       "      <td>True</td>\n",
       "      <td>Love this game</td>\n",
       "      <td>Five Stars</td>\n",
       "    </tr>\n",
       "  </tbody>\n",
       "</table>\n",
       "</div>"
      ],
      "text/plain": [
       "   overall  verified                                         reviewText  \\\n",
       "0      5.0      True  I admit, I was a bit leery of the low price on...   \n",
       "1      4.0      True                                    My son loved it   \n",
       "2      1.0      True  Very bad. It will break really fast. I can't h...   \n",
       "3      1.0      True                                 The game sucks....   \n",
       "4      5.0     False  Don't get me wrong, farcry 3 was an o.k. game,...   \n",
       "5      5.0      True  it beeter then the acckilam wi.e rless one  th...   \n",
       "6      5.0      True                                       Ball is life   \n",
       "7      4.0      True                                            It's ok   \n",
       "8      1.0      True  Im just getting around to writing this review ...   \n",
       "9      5.0      True                                     Love this game   \n",
       "\n",
       "                       summary  \n",
       "0  these things actually work!  \n",
       "1                   Great gift  \n",
       "2              Waste Of Money!  \n",
       "3                     One Star  \n",
       "4      Re:Better than Farcry 3  \n",
       "5                    it better  \n",
       "6                   Five Stars  \n",
       "7                   Four Stars  \n",
       "8                  Didn't work  \n",
       "9                   Five Stars  "
      ]
     },
     "execution_count": 19,
     "metadata": {},
     "output_type": "execute_result"
    }
   ],
   "source": [
    "train.head(10)"
   ]
  },
  {
   "cell_type": "code",
   "execution_count": 50,
   "metadata": {},
   "outputs": [
    {
     "data": {
      "image/png": "[encoded data removed]",
      "text/plain": [
       "<Figure size 640x480 with 1 Axes>"
      ]
     },
     "metadata": {},
     "output_type": "display_data"
    }
   ],
   "source": [
    "stars=[]\n",
    "counts=train['overall'].value_counts()\n",
    "for i in range(1,6):\n",
    "    stars.append(counts.get(i,0))\n",
    "plt.bar(range(1,6),stars,color='c')\n",
    "plt.xlabel('Ratings')\n",
    "plt.ylabel('Frequencies')\n",
    "plt.show()"
   ]
  },
  {
   "cell_type": "code",
   "execution_count": 20,
   "metadata": {},
   "outputs": [],
   "source": [
    "trainset=tf.data.Dataset.from_tensor_slices((train['reviewText'],train['overall']))\n",
    "validset=tf.data.Dataset.from_tensor_slices((valid['reviewText'],valid['overall']))\n",
    "testset=tf.data.Dataset.from_tensor_slices((test['reviewText'],test['overall']))\n",
    "textvec=TextVectorization(output_mode='multi_hot',max_tokens=20000,ngrams=3)\n",
    "text_train=trainset.map(lambda x, y: x)\n",
    "textvec.adapt(text_train)\n"
   ]
  },
  {
   "cell_type": "code",
   "execution_count": 21,
   "metadata": {},
   "outputs": [],
   "source": [
    "batchsize = 32\n",
    "train_ngram_ds = trainset.map(\n",
    " lambda x, y: (textvec(x), int(y)-1),\n",
    " num_parallel_calls=8)\n",
    "valid_ngram_ds = validset.map(\n",
    " lambda x, y: (textvec(x), int(y)-1),\n",
    " num_parallel_calls=8)\n",
    "test_ngram_ds = testset.map(\n",
    " lambda x, y: (textvec(x), int(y)-1),\n",
    " num_parallel_calls=8)\n",
    "train_ngram_ds=train_ngram_ds.batch(batchsize)\n",
    "test_ngram_ds=test_ngram_ds.batch(batchsize)\n",
    "valid_ngram_ds=valid_ngram_ds.batch(batchsize)\n"
   ]
  },
  {
   "cell_type": "code",
   "execution_count": 22,
   "metadata": {},
   "outputs": [
    {
     "name": "stdout",
     "output_type": "stream",
     "text": [
      "2\n",
      "(32, 20000)\n",
      "(32,)\n",
      "tf.Tensor([1. 1. 1. ... 0. 0. 0.], shape=(20000,), dtype=float32)\n",
      "tf.Tensor(4, shape=(), dtype=int32)\n"
     ]
    }
   ],
   "source": [
    "for ele,label in train_ngram_ds:\n",
    "    print(ele.ndim)\n",
    "    print(ele.shape)\n",
    "    print(label.shape)\n",
    "    print(ele[0])\n",
    "    print(label[0])\n",
    "    break"
   ]
  },
  {
   "cell_type": "code",
   "execution_count": 23,
   "metadata": {},
   "outputs": [
    {
     "name": "stdout",
     "output_type": "stream",
     "text": [
      "Model: \"model_1\"\n",
      "_________________________________________________________________\n",
      " Layer (type)                Output Shape              Param #   \n",
      "=================================================================\n",
      " input_2 (InputLayer)        [(None, 20000)]           0         \n",
      "                                                                 \n",
      " dense_2 (Dense)             (None, 16)                320016    \n",
      "                                                                 \n",
      " dropout_1 (Dropout)         (None, 16)                0         \n",
      "                                                                 \n",
      " dense_3 (Dense)             (None, 5)                 85        \n",
      "                                                                 \n",
      "=================================================================\n",
      "Total params: 320,101\n",
      "Trainable params: 320,101\n",
      "Non-trainable params: 0\n",
      "_________________________________________________________________\n",
      "None\n"
     ]
    }
   ],
   "source": [
    "inputs=keras.Input(shape=(20000,))\n",
    "features=layers.Dense(16,activation='relu')(inputs)\n",
    "features=layers.Dropout(0.5)(features)\n",
    "outputs=layers.Dense(5,activation='softmax')(features)\n",
    "model=keras.Model(inputs,outputs)\n",
    "model.compile(optimizer='adam',loss='sparse_categorical_crossentropy',metrics=['accuracy'])\n",
    "print(model.summary())"
   ]
  },
  {
   "cell_type": "code",
   "execution_count": 28,
   "metadata": {},
   "outputs": [
    {
     "name": "stdout",
     "output_type": "stream",
     "text": [
      "Epoch 1/4\n",
      "12500/12500 [==============================] - 80s 6ms/step - loss: 0.7602 - accuracy: 0.7055 - val_loss: 0.7713 - val_accuracy: 0.7096\n",
      "Epoch 2/4\n",
      "12500/12500 [==============================] - 79s 6ms/step - loss: 0.7555 - accuracy: 0.7085 - val_loss: 0.7750 - val_accuracy: 0.7086\n",
      "Epoch 3/4\n",
      "12500/12500 [==============================] - 77s 6ms/step - loss: 0.7494 - accuracy: 0.7093 - val_loss: 0.7824 - val_accuracy: 0.7103\n",
      "Epoch 4/4\n",
      "12500/12500 [==============================] - 80s 6ms/step - loss: 0.7453 - accuracy: 0.7113 - val_loss: 0.7858 - val_accuracy: 0.7086\n"
     ]
    }
   ],
   "source": [
    "watch=model.fit(train_ngram_ds,epochs=4,validation_data=valid_ngram_ds)"
   ]
  },
  {
   "cell_type": "code",
   "execution_count": 30,
   "metadata": {},
   "outputs": [
    {
     "name": "stdout",
     "output_type": "stream",
     "text": [
      "625/625 [==============================] - 4s 6ms/step\n"
     ]
    }
   ],
   "source": [
    "y_predictions=model.predict(test_ngram_ds)\n",
    "finalpred=[]\n",
    "for row in y_predictions:\n",
    "    finalpred.append(np.argmax(row)+1)\n",
    "finalpred=np.array(finalpred)\n",
    "actual=test['overall'].apply(lambda x: int(x))\n",
    "actual=np.array(actual)"
   ]
  },
  {
   "cell_type": "code",
   "execution_count": 31,
   "metadata": {},
   "outputs": [
    {
     "name": "stdout",
     "output_type": "stream",
     "text": [
      "precision:0.5569650929361625  , recall:0.4674612106236042, accuracy:0.70915\n"
     ]
    }
   ],
   "source": [
    "def precision_recall(class_num,predictions,actual):\n",
    "    tp=0\n",
    "    fp=0\n",
    "    fn=0\n",
    "    tn=0\n",
    "    for i in range(0,len(predictions)):\n",
    "        if(predictions[i]==class_num and actual[i]!=class_num):\n",
    "            fp=fp+1\n",
    "        elif(predictions[i]==class_num and actual[i]==class_num):\n",
    "            tp=tp+1\n",
    "        elif(predictions[i]!=class_num and actual[i]==class_num):\n",
    "            fn=fn+1\n",
    "        elif(predictions[i]!=class_num and actual[i]!=class_num):\n",
    "            tn=tn+1\n",
    "    precision=tp/(tp+fp)\n",
    "    recall=tp/(tp+fn)\n",
    "    return(precision,recall)\n",
    "def multi_class_precision_recall(predictions,actual):\n",
    "    precision_avg=0\n",
    "    recall_avg=0\n",
    "    for i in range(1,6):\n",
    "        prec,rec=precision_recall(i,predictions,actual)\n",
    "        precision_avg+=prec\n",
    "        recall_avg+=rec\n",
    "    precision_avg=precision_avg/5\n",
    "    recall_avg=recall_avg/5\n",
    "    return (precision_avg,recall_avg)\n",
    "def calc_accuracy(predictions,actual):\n",
    "    correct=0\n",
    "    for i in range(0, len(predictions)):\n",
    "        if(predictions[i]==actual[i]):\n",
    "            correct+=1\n",
    "    return correct/len(predictions)\n",
    "precision,recall=multi_class_precision_recall(finalpred,actual)\n",
    "accuracy=calc_accuracy(finalpred,actual)\n",
    "print(f\"precision:{precision}  , recall:{recall}, accuracy:{accuracy}\")"
   ]
  }
 ],
 "metadata": {
  "kernelspec": {
   "display_name": "tfgpu",
   "language": "python",
   "name": "python3"
  },
  "language_info": {
   "codemirror_mode": {
    "name": "ipython",
    "version": 3
   },
   "file_extension": ".py",
   "mimetype": "text/x-python",
   "name": "python",
   "nbconvert_exporter": "python",
   "pygments_lexer": "ipython3",
   "version": "3.10.13"
  }
 },
 "nbformat": 4,
 "nbformat_minor": 2
}
